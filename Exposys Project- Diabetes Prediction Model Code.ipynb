{
 "cells": [
  {
   "cell_type": "markdown",
   "source": [
    "DIABETES PREDICIION MODEL USING SUPPORT VECTOR CLASSIFIER"
   ],
   "metadata": {}
  },
  {
   "cell_type": "markdown",
   "source": [
    "IMPORTING THE DEPENDENCIES"
   ],
   "metadata": {}
  },
  {
   "cell_type": "code",
   "execution_count": null,
   "source": [
    "import numpy as np\r\n",
    "import pandas as pd\r\n",
    "from sklearn.preprocessing import StandardScaler\r\n",
    "from sklearn.model_selection import train_test_split\r\n",
    "from sklearn import svm\r\n",
    "from sklearn.metrics import accuracy_score\r\n",
    "from sklearn.ensemble import RandomForestClassifier\r\n",
    "from sklearn.tree import DecisionTreeClassifier"
   ],
   "outputs": [],
   "metadata": {}
  },
  {
   "cell_type": "markdown",
   "source": [
    "DATA COLLECTION"
   ],
   "metadata": {}
  },
  {
   "cell_type": "markdown",
   "source": [
    "--> dataset link : https://www.kaggle.com/uciml/pima-indians-diabetes-database\r\n",
    ":: The objective of the dataset is to diagnostically predict whether or not a patient has diabetes, based on certain diagnostic measurements included in the dataset. Several constraints were placed on the selection of these instances from a larger database. In particular, all patients here are females at least 21 years old of Pima Indian heritage."
   ],
   "metadata": {}
  },
  {
   "cell_type": "code",
   "execution_count": null,
   "source": [
    "dataset = pd.read_csv(\"diabetes_dataset.csv\")\r\n"
   ],
   "outputs": [],
   "metadata": {}
  },
  {
   "cell_type": "code",
   "execution_count": null,
   "source": [
    "dataset.head()"
   ],
   "outputs": [],
   "metadata": {}
  },
  {
   "cell_type": "code",
   "execution_count": null,
   "source": [
    "dataset.isnull().sum()"
   ],
   "outputs": [],
   "metadata": {}
  },
  {
   "cell_type": "code",
   "execution_count": null,
   "source": [
    "\r\n",
    "print(\"total number of rows : {0}\".format(len(dataset)))\r\n"
   ],
   "outputs": [],
   "metadata": {}
  },
  {
   "cell_type": "markdown",
   "source": [
    "Checking for number of 0 in each column"
   ],
   "metadata": {}
  },
  {
   "cell_type": "code",
   "execution_count": null,
   "source": [
    "print(\"number of rows missing Glucose: {0}\".format(len(dataset.loc[dataset['Glucose'] == 0])))\r\n",
    "print(\"number of rows missing BloodPressure: {0}\".format(len(dataset.loc[dataset['BloodPressure'] == 0])))\r\n",
    "print(\"number of rows missing SkinThickness: {0}\".format(len(dataset.loc[dataset['SkinThickness'] == 0])))\r\n",
    "print(\"number of rows missing Insulin: {0}\".format(len(dataset.loc[dataset['Insulin'] == 0])))\r\n",
    "print(\"number of rows missing BMI: {0}\".format(len(dataset.loc[dataset['BMI'] == 0])))\r\n",
    "print(\"number of rows missing Age: {0}\".format(len(dataset.loc[dataset['Age'] == 0])))"
   ],
   "outputs": [],
   "metadata": {}
  },
  {
   "cell_type": "code",
   "execution_count": null,
   "source": [
    "dataset['Outcome'].value_counts()"
   ],
   "outputs": [],
   "metadata": {}
  },
  {
   "cell_type": "markdown",
   "source": [
    "1 --> patient is diabetec\r\n",
    "0 --> patient is not diabetec"
   ],
   "metadata": {}
  },
  {
   "cell_type": "markdown",
   "source": [
    "SEPERATING THE FEATURES\r\n",
    "X --> INDEPENDENT VARIABLES (FEATURES)\r\n",
    "Y --> DEPENDENT VARIABLE (OUTCOME)"
   ],
   "metadata": {}
  },
  {
   "cell_type": "code",
   "execution_count": null,
   "source": [
    "x = dataset.iloc[ : , :-1]\r\n",
    "y = dataset.iloc[ : , -1]"
   ],
   "outputs": [],
   "metadata": {}
  },
  {
   "cell_type": "code",
   "execution_count": null,
   "source": [
    "x.head()"
   ],
   "outputs": [],
   "metadata": {}
  },
  {
   "cell_type": "code",
   "execution_count": null,
   "source": [
    "y.head()"
   ],
   "outputs": [],
   "metadata": {}
  },
  {
   "cell_type": "markdown",
   "source": [
    "Filling 0 values with mean value of the column"
   ],
   "metadata": {}
  },
  {
   "cell_type": "code",
   "execution_count": null,
   "source": [
    "from sklearn.impute import SimpleImputer\r\n",
    "imputer = SimpleImputer(missing_values=0, strategy='mean')\r\n",
    "\r\n",
    "x= imputer.fit_transform(x)\r\n"
   ],
   "outputs": [],
   "metadata": {}
  },
  {
   "cell_type": "code",
   "execution_count": null,
   "source": [
    "print(x)"
   ],
   "outputs": [],
   "metadata": {}
  },
  {
   "cell_type": "markdown",
   "source": [
    "DATA STANDARDISATION"
   ],
   "metadata": {}
  },
  {
   "cell_type": "code",
   "execution_count": null,
   "source": [
    "scalar = StandardScaler()\r\n",
    "x = scalar.fit_transform(x)"
   ],
   "outputs": [],
   "metadata": {}
  },
  {
   "cell_type": "code",
   "execution_count": null,
   "source": [
    "print(x)"
   ],
   "outputs": [],
   "metadata": {}
  },
  {
   "cell_type": "markdown",
   "source": [
    "SPLITTING THE DATA INTO TRAIN AND TEST"
   ],
   "metadata": {}
  },
  {
   "cell_type": "code",
   "execution_count": null,
   "source": [
    "xtrain, xtest, ytrain, ytest = train_test_split( x, y, test_size=0.2, stratify=y, random_state=52)"
   ],
   "outputs": [],
   "metadata": {}
  },
  {
   "cell_type": "code",
   "execution_count": null,
   "source": [
    "print(xtrain)"
   ],
   "outputs": [],
   "metadata": {}
  },
  {
   "cell_type": "code",
   "execution_count": null,
   "source": [
    "print(ytrain)"
   ],
   "outputs": [],
   "metadata": {}
  },
  {
   "cell_type": "code",
   "execution_count": null,
   "source": [
    "print(xtrain.shape,xtest.shape)"
   ],
   "outputs": [],
   "metadata": {}
  },
  {
   "cell_type": "code",
   "execution_count": null,
   "source": [
    "print(ytrain.shape,ytest.shape)"
   ],
   "outputs": [],
   "metadata": {}
  },
  {
   "cell_type": "markdown",
   "source": [
    "TRAINING THE MODEL"
   ],
   "metadata": {}
  },
  {
   "cell_type": "markdown",
   "source": [
    "-->USING SUPPORT VECTOR MACHINE MODEL"
   ],
   "metadata": {}
  },
  {
   "cell_type": "code",
   "execution_count": null,
   "source": [
    "svmmodel = svm.SVC(kernel='linear')"
   ],
   "outputs": [],
   "metadata": {}
  },
  {
   "cell_type": "code",
   "execution_count": null,
   "source": [
    "#Training the support vector machine classifier \r\n",
    "svmmodel.fit(xtrain, ytrain)"
   ],
   "outputs": [],
   "metadata": {}
  },
  {
   "cell_type": "markdown",
   "source": [
    "-->USING RANDOM FOREST CLASSIFIER"
   ],
   "metadata": {}
  },
  {
   "cell_type": "code",
   "execution_count": null,
   "source": [
    "\r\n",
    "random_forest_model = RandomForestClassifier(random_state=10)\r\n",
    "\r\n",
    "random_forest_model.fit(xtrain, ytrain.ravel())"
   ],
   "outputs": [],
   "metadata": {}
  },
  {
   "cell_type": "markdown",
   "source": [
    "-->USING DECISION TREE CLASSIFIER"
   ],
   "metadata": {}
  },
  {
   "cell_type": "code",
   "execution_count": null,
   "source": [
    "\r\n",
    "modeldc = DecisionTreeClassifier(criterion = 'entropy', random_state = 0,max_depth=3)\r\n",
    "modeldc.fit(xtrain, ytrain)"
   ],
   "outputs": [],
   "metadata": {}
  },
  {
   "cell_type": "markdown",
   "source": [
    "ACCURACY SCORE"
   ],
   "metadata": {}
  },
  {
   "cell_type": "markdown",
   "source": [
    "-->ACCURACY FOR SUPPORT VECTOR MACHINE"
   ],
   "metadata": {}
  },
  {
   "cell_type": "code",
   "execution_count": null,
   "source": [
    "#ACCURACY ON TRAINING DATASET\r\n",
    "x_train_predict =  svmmodel.predict(xtrain)\r\n",
    "train_accuracy = accuracy_score(x_train_predict, ytrain)\r\n",
    "\r\n",
    "print(\"Accuracy =\", train_accuracy*100)"
   ],
   "outputs": [],
   "metadata": {}
  },
  {
   "cell_type": "code",
   "execution_count": null,
   "source": [
    "#ACCURACY ON TESTING DATASET\r\n",
    "x_test_predict =  svmmodel.predict(xtest)\r\n",
    "test_accuracy = accuracy_score(x_test_predict, ytest)\r\n",
    "\r\n",
    "print(\"Accuracy =\", test_accuracy*100)"
   ],
   "outputs": [],
   "metadata": {}
  },
  {
   "cell_type": "markdown",
   "source": [
    "-->ACCURACY FOR RANDOM FOREST CLASSIFIER"
   ],
   "metadata": {}
  },
  {
   "cell_type": "code",
   "execution_count": null,
   "source": [
    "predict_train_data = random_forest_model.predict(xtest)\r\n",
    "\r\n",
    "from sklearn import metrics\r\n",
    "\r\n",
    "print(\"Accuracy = \",metrics.accuracy_score(ytest, predict_train_data)*100)"
   ],
   "outputs": [],
   "metadata": {}
  },
  {
   "cell_type": "markdown",
   "source": [
    "-->ACCURACY FOR DECISION TREE CLASSIFIER"
   ],
   "metadata": {}
  },
  {
   "cell_type": "code",
   "execution_count": null,
   "source": [
    "ypred=modeldc.predict(xtest)\r\n",
    "\r\n",
    "from sklearn import metrics\r\n",
    "\r\n",
    "print(\"Accuracy = \",metrics.accuracy_score(ytest, ypred)*100)"
   ],
   "outputs": [],
   "metadata": {}
  },
  {
   "cell_type": "markdown",
   "source": [
    "PREDICTION"
   ],
   "metadata": {}
  },
  {
   "cell_type": "markdown",
   "source": [
    "SINCE WE GET THE BEST ACCURACY USING SUPPORT VECTOR MACHINE MODEL WE USE IT TO PREDICT THE TEST CASES"
   ],
   "metadata": {}
  },
  {
   "cell_type": "markdown",
   "source": [
    "CASE 1 :PREDICTION :: \r\n",
    "VALUES -- > 5,116,74,0,0,25.6,0.201,30 :: \r\n",
    "OUTCOME -- > 0"
   ],
   "metadata": {}
  },
  {
   "cell_type": "markdown",
   "source": [
    "-->Transforming the input data"
   ],
   "metadata": {}
  },
  {
   "cell_type": "code",
   "execution_count": null,
   "source": [
    "inputdata = (5,116,74,0,0,25.6,0.201,30) #OUTCOME SHOULD BE NON DIABETEC\r\n",
    "\r\n",
    "#convesion to numpy array\r\n",
    "inputnp = np.asarray(inputdata) \r\n",
    "\r\n",
    "inputnp = inputnp.reshape(1,-1)\r\n",
    "\r\n",
    "#standardisation\r\n",
    "data=scalar.transform(inputnp)\r\n",
    "\r\n"
   ],
   "outputs": [],
   "metadata": {}
  },
  {
   "cell_type": "markdown",
   "source": [
    "-->Prediction"
   ],
   "metadata": {}
  },
  {
   "cell_type": "code",
   "execution_count": null,
   "source": [
    "prediction=svmmodel.predict(data)\r\n",
    "if prediction[0] == 0:\r\n",
    "    print(\"Not Diabetec\")\r\n",
    "else:\r\n",
    "    print(\"Diabetec\")"
   ],
   "outputs": [],
   "metadata": {}
  },
  {
   "cell_type": "markdown",
   "source": [
    "CASE 2 :PREDICTION :: \r\n",
    "VALUES -- > 3,78,50,32,88,31,0.248,26 :: \r\n",
    "OUTCOME -- > 1"
   ],
   "metadata": {}
  },
  {
   "cell_type": "markdown",
   "source": [
    "-->Transforming the input data"
   ],
   "metadata": {}
  },
  {
   "cell_type": "code",
   "execution_count": null,
   "source": [
    "inputdata2 = (5,166,72,19,175,25,0.587,51) #OUTCOME SHOULD BE DIABETEC\r\n",
    "\r\n",
    "#convesion to numpy array\r\n",
    "inputnp2 = np.asarray(inputdata2) \r\n",
    "\r\n",
    "inputnp2 = inputnp2.reshape(1,-1)\r\n",
    "\r\n",
    "#standardisation\r\n",
    "data2=scalar.transform(inputnp2)\r\n",
    "\r\n"
   ],
   "outputs": [],
   "metadata": {}
  },
  {
   "cell_type": "markdown",
   "source": [
    "-->Prediction"
   ],
   "metadata": {}
  },
  {
   "cell_type": "code",
   "execution_count": null,
   "source": [
    "prediction=svmmodel.predict(data2)\r\n",
    "if prediction[0] == 0:\r\n",
    "    print(\"Not Diabetec\")\r\n",
    "else:\r\n",
    "    print(\"Diabetec\")"
   ],
   "outputs": [],
   "metadata": {}
  },
  {
   "cell_type": "markdown",
   "source": [
    "--END--"
   ],
   "metadata": {}
  }
 ],
 "metadata": {
  "orig_nbformat": 4,
  "language_info": {
   "name": "python",
   "version": "3.9.7",
   "mimetype": "text/x-python",
   "codemirror_mode": {
    "name": "ipython",
    "version": 3
   },
   "pygments_lexer": "ipython3",
   "nbconvert_exporter": "python",
   "file_extension": ".py"
  },
  "kernelspec": {
   "name": "python3",
   "display_name": "Python 3.9.7 64-bit"
  },
  "interpreter": {
   "hash": "2fb91b1e956d45f6f365b9843a173f2d748faeda26451ace645ced11690f22b1"
  }
 },
 "nbformat": 4,
 "nbformat_minor": 2
}